{
 "cells": [
  {
   "cell_type": "markdown",
   "metadata": {},
   "source": [
    "# Regresión logística"
   ]
  },
  {
   "cell_type": "markdown",
   "metadata": {},
   "source": [
    "En esta libreta vamos a desarrollar los algoritmos de regresión logística, y vamos a aplicar los métodos a dos conjuntos de datos, uno donde se aplica directamente la regresión logística y otro donde se ejemplifica el uso de la regularización y los clasificadores polinomiales.\n",
    "\n",
    "Igualmente vamos a probar el uso del descenso de gradiente, y el uso de herramientas de optimización que provienen de los paquetes de `scipy`."
   ]
  },
  {
   "cell_type": "code",
   "execution_count": 2,
   "metadata": {
    "collapsed": false
   },
   "outputs": [],
   "source": [
    "%matplotlib inline\n",
    "import numpy as np\n",
    "import matplotlib.pyplot as plt\n",
    "from IPython.display import Image  # Esto es para desplegar imágenes en la libreta"
   ]
  },
  {
   "cell_type": "markdown",
   "metadata": {},
   "source": [
    "## 1. Función logística, función de costo y gradiente de la función de costo"
   ]
  },
  {
   "cell_type": "markdown",
   "metadata": {},
   "source": [
    "La función logística está dada por \n",
    "\n",
    "$$\n",
    "g(z) = \\frac{1}{1 + e^{-z}},\n",
    "$$\n",
    "\n",
    "la cual tambien se conoce como función *probit* (probabilidad de un bit). La cual es importante que podamos calcular en forma vectorial. Si bien el calculo es de una sola linea, el uso de estas funciones auxiliares facilitan la legibilidad del código."
   ]
  },
  {
   "cell_type": "markdown",
   "metadata": {},
   "source": [
    "#### Ejercicio 1: Desarrolla la función logística, la cual se calcule para todos los elementos de un ndarray (20 puntos)"
   ]
  },
  {
   "cell_type": "code",
   "execution_count": 3,
   "metadata": {
    "collapsed": false
   },
   "outputs": [],
   "source": [
    "def logistica(z):\n",
    "    \"\"\"\n",
    "    Calcula la función logística para cada elemento de z\n",
    "    \n",
    "    @param z: un ndarray\n",
    "    @return: un ndarray de las mismas dimensiones que z\n",
    "    \"\"\"\n",
    "    # Introduce código aqui (una linea de código)\n",
    "    #---------------------------------------------------\n",
    "    return 1 / (1 + np.exp(-z))\n",
    "    #---------------------------------------------------\n",
    "    \n",
    "# prueba que efectivamente funciona la función implementada\n",
    "# si el assert es falso regresa un error de aserción (el testunit de los pobres)\n",
    "assert (np.abs(logistica(np.array([-1, 0, 1])) - np.array([ 0.26894142, 0.5, 0.73105858]))).sum() < 1e-6\n"
   ]
  },
  {
   "cell_type": "markdown",
   "metadata": {},
   "source": [
    "Para probar la función vamos a graficar la función logística en el intervalo [-5, 5]"
   ]
  },
  {
   "cell_type": "code",
   "execution_count": 4,
   "metadata": {
    "collapsed": false
   },
   "outputs": [
    {
     "name": "stderr",
     "output_type": "stream",
     "text": [
      "/home/barbaragd/anaconda3/lib/python3.7/site-packages/matplotlib/font_manager.py:1241: UserWarning: findfont: Font family ['xkcd', 'xkcd Script', 'Humor Sans', 'Comic Sans MS'] not found. Falling back to DejaVu Sans.\n",
      "  (prop.get_family(), self.defaultFamily[fontext]))\n"
     ]
    },
    {
     "data": {
      "image/png": "[encoded data removed]",
      "text/plain": [
       "<Figure size 432x288 with 1 Axes>"
      ]
     },
     "metadata": {},
     "output_type": "display_data"
    }
   ],
   "source": [
    "z = np.linspace(-5, 5, 100)\n",
    "with plt.xkcd():\n",
    "    plt.plot( z, logistica(z))\n",
    "    plt.title(u'Función logística', fontsize=20)\n",
    "    plt.xlabel(r'$z$', fontsize=20)\n",
    "    plt.ylabel(r'$\\frac{1}{1 + \\exp(-z)}$', fontsize=26)\n"
   ]
  },
  {
   "cell_type": "markdown",
   "metadata": {},
   "source": [
    "Una vez establecida la función logística, vamos a implementar la función de costo *sin regularizar* para la regresión logística, la cual está dada por\n",
    "\n",
    "$$\n",
    "J(\\omega) = -\\frac{1}{T} \\sum_{i=1}^T \\left[ y^{(i)}\\log(h_\\omega(x^{(i)}) + (1 - y^{(i)})\\log(1 - h_\\omega(x^{(i)}))\\right],\n",
    "$$\n",
    "\n",
    "donde \n",
    "\n",
    "$$\n",
    "h_\\omega(x^{(i)}) = g(\\omega^T x_e^{(i)}),\n",
    "$$\n",
    "\n",
    "las cuales fueron ecuaciones revisadas en clase."
   ]
  },
  {
   "cell_type": "markdown",
   "metadata": {},
   "source": [
    "#### Ejercicio 2: Implementa la función de costo para un conjunto de aprendizaje (20 puntos)"
   ]
  },
  {
   "cell_type": "code",
   "execution_count": 9,
   "metadata": {
    "collapsed": false
   },
   "outputs": [],
   "source": [
    "def costo(w, x, y):\n",
    "    \"\"\"\n",
    "    Calcula el costo de una w dada para el conjunto dee entrenamiento dado por y y x\n",
    "    \n",
    "    @param w: un ndarray de dimensión (n + 1, 1) \n",
    "    @param x: un ndarray de dimensión (T, n + 1) donde la primer columna son puros unos\n",
    "    @param y: un ndarray de dimensión (T, 1) donde cada entrada es 1.0 o 0.0\n",
    "    \n",
    "    @return: un flotante con el costo\n",
    "    \n",
    "    \"\"\" \n",
    "    T = x.shape[0]\n",
    "    \n",
    "    #------------------------------------------------------------------------\n",
    "    # Agregua aqui tu código\n",
    "    h = logistica(x@ w)\n",
    "    error = y * np.log(h) + (1 - y) * np.log(1 - h)\n",
    "    return -1 / T * np.sum(error)\n",
    "    \n",
    "    #------------------------------------------------------------------------\n",
    "\n",
    "    \n",
    "# Otra vez el testunit del pobre (ya lo calcule yo, pero puedes hacerlo a mano para estar seguro)\n",
    "w = np.ones((2,1))\n",
    "\n",
    "x = np.array([[1, 10],\n",
    "              [1, -5]])\n",
    "\n",
    "y1 = np.array([[1],\n",
    "               [0]])\n",
    "\n",
    "y2 = np.array([[0],\n",
    "               [1]])\n",
    "\n",
    "y3 = np.array([[0],\n",
    "               [0]])\n",
    "\n",
    "y4 = np.array([[1],\n",
    "               [1]])\n",
    "\n",
    "assert abs(costo(w, x, y1) - 0.01) < 1e-2\n",
    "assert abs(costo(w, x, y2) - 7.5) < 1e-2\n",
    "assert abs(costo(w, x, y3) - 5.5) < 1e-2\n",
    "assert abs(costo(w, x, y4) - 2.0) < 1e-2"
   ]
  },
  {
   "cell_type": "markdown",
   "metadata": {},
   "source": [
    "De la misma manera, para poder implementar las funciones de aprendizaje, vamos a implementar el gradiente de la función de costo. El gradiente de la función de costo respecto a $\\omega$ es (como lo vimos en clase) el siguiente:\n",
    "\n",
    "$$\n",
    "\\frac{\\partial J(\\omega)}{\\partial \\omega_j} = -\\frac{1}{T} \\sum_{i=1}^T (y^{(i)} - h_\\omega(x^{(i)})x_j^{(i)} \n",
    "$$\n",
    "\n",
    "y a partir de las ecuaciones individuales de puede obtener $\\nabla J(\\omega)$, la cual no la vamos a escribir en la libreta para que revisen en sus notas como se puede resolver este problema en forma matricial. Si bien para el descenso de gradiente podemos utilizar directamente el gradiente negado, al implementar métodos de optimización avanzados, necesitamos que el gradiente sea efectivamente el gradiente."
   ]
  },
  {
   "cell_type": "markdown",
   "metadata": {},
   "source": [
    "#### Ejercicio 3: Implementa (con operaciones matriciales) la función del gradiente (20 puntos)"
   ]
  },
  {
   "cell_type": "code",
   "execution_count": 13,
   "metadata": {
    "collapsed": false
   },
   "outputs": [],
   "source": [
    "def gradiente(w, x, y):\n",
    "    \"\"\"\n",
    "    Calcula el gradiente del costo de la regrasión logística, para una theta, conociendo un conjunto de aprendizaje.\n",
    "    \n",
    "    @param w: un ndarray de dimensión (n + 1, 1) \n",
    "    @param x: un ndarray de dimensión (T, n + 1) donde la primer columna son puros unos\n",
    "    @param y: un ndarray de dimensión (T, 1) donde cada entrada es 1.0 o 0.0\n",
    "    \n",
    "    @return: un ndarray de mismas dimensiones que w\n",
    "    \n",
    "    \"\"\"\n",
    "    T = x.shape[0]\n",
    "\n",
    "    #------------------------------------------------------------------------\n",
    "    # Agregua aqui tu código\n",
    "    h = logistica(x @ w)\n",
    "\n",
    "    error = x.T@(y - h)\n",
    "    \n",
    "    return -1 / T * error\n",
    "    \n",
    "    \n",
    "    #------------------------------------------------------------------------\n",
    "    \n",
    "# Otra vez el testunit del pobre (ya lo calcule yo, pero puedes hacerlo a mano para estar seguro)\n",
    "w = np.ones((2, 1))\n",
    "\n",
    "x = np.array([[1, 10],\n",
    "              [1, -5]])\n",
    "\n",
    "y1 = np.array([[1],\n",
    "               [0]])\n",
    "\n",
    "y2 = np.array([[0],\n",
    "               [1]])\n",
    "\n",
    "y3 = np.array([[0],\n",
    "               [0]])\n",
    "\n",
    "y4 = np.array([[1],\n",
    "               [1]])\n",
    "\n",
    "assert abs(0.00898475 - gradiente(w, x, y1)[0]) < 1e-4\n",
    "assert abs(7.45495097 - gradiente(w, x, y2)[1]) < 1e-4 \n",
    "assert abs(4.95495097 - gradiente(w, x, y3)[1]) < 1e-4 \n",
    "assert abs(-0.49101525 - gradiente(w, x, y4)[0]) < 1e-4     "
   ]
  },
  {
   "cell_type": "markdown",
   "metadata": {},
   "source": [
    "## 2. Descenso de gradiente y el método BGFS para regresión logística"
   ]
  },
  {
   "cell_type": "markdown",
   "metadata": {},
   "source": [
    "Ahora vamos a desarrollar las funciones necesarias para realizar el entrenamiento y encontrar la mejor $\\omega$ de acuero a la función de costos y un conjunto de datos de aprendizaje.\n",
    "\n",
    "Para este problema, vamos a utilizar una base de datos sintética proveniente del curso de Andrew Ng que se encuentra en coursera. Supongamos que pertenecemos al departamente de servicios escolares de la UNISON y vamos a modificar el procedimiento de admisión, y en lugar de utilizar un solo exámen (EXCOBA) y la información del cardex de la preparatoria, hemos decidido aplicar dos exámenes, uno sicométrico y otro de habilidades estudiantiles. Dichos exámenes se han aplicado el último año aunque no fueron utilizados como criterio. Así, tenemos un historial entre estudiantes aceptados y resultados de los dos exámenes. El objetivo es hacer un método de regresión que nos permita hacer la admisión a la UNISON tomando en cuenta únicamente los dos exámenes y simplificar el proceso. *Recuerda que esto no es verdad, es solo un ejercicio*.\n",
    "\n",
    "Bien, los datos se encuentran en el archivo `admision.txt` el cual se encuentra en formato `cvs` (osea los valores de las columnas separados por comas. Vamos a utilizar el mismo método para cargar datos que el que utilizamos para regresión lineal, y vamos a graficar la información para entender un poco los datos."
   ]
  },
  {
   "cell_type": "code",
   "execution_count": 14,
   "metadata": {
    "collapsed": false
   },
   "outputs": [
    {
     "data": {
      "text/plain": [
       "<matplotlib.legend.Legend at 0x7f133473efd0>"
      ]
     },
     "execution_count": 14,
     "metadata": {},
     "output_type": "execute_result"
    },
    {
     "data": {
      "image/png": "[encoded data removed]",
      "text/plain": [
       "<Figure size 432x288 with 1 Axes>"
      ]
     },
     "metadata": {
      "needs_background": "light"
     },
     "output_type": "display_data"
    }
   ],
   "source": [
    "datos = np.loadtxt('admision.txt', comments='%', delimiter=',')\n",
    "\n",
    "x, y = datos[:,0:-1], datos[:,-1:] \n",
    "x = np.c_[np.ones((x.shape[0], 1)), x]\n",
    "\n",
    "plt.plot(x[y.ravel() == 1, 1], x[y.ravel() == 1, 2], 'sr', label='aceptados') \n",
    "plt.plot(x[y.ravel() == 0, 1], x[y.ravel() == 0, 2], 'ob', label='rechazados')\n",
    "plt.title(u'Ejemplo sintético para regresión logística')\n",
    "plt.xlabel(u'Calificación del primer examen')\n",
    "plt.ylabel(u'Calificación del segundo examen')\n",
    "plt.axis([20, 100, 20, 100])\n",
    "plt.legend(loc=0)\n"
   ]
  },
  {
   "cell_type": "markdown",
   "metadata": {},
   "source": [
    "Vistos los datos un clasificador lineal podría ser una buena solución. \n",
    "\n",
    "Ahora vamos a implementar el método de descenso de gradiente, casi de la misma manera que lo implementamos para regresión lineal (por lotes)"
   ]
  },
  {
   "cell_type": "markdown",
   "metadata": {},
   "source": [
    "#### Ejercicio 4: Implementa el descenso de gradiente para el problema de regresión logística en modo batch (20 puntos)"
   ]
  },
  {
   "cell_type": "code",
   "execution_count": 25,
   "metadata": {
    "collapsed": false
   },
   "outputs": [],
   "source": [
    "def descenso_rl_lotes(x, y, alpha, epsilon=1e-4, max_iter=int(1e4), costos=False):\n",
    "    \"\"\"\n",
    "    Descenso de gradiente por lotes para resolver el problema de regresión logística con un conjunto de aprendizaje\n",
    "\n",
    "    @param x: un ndarray de dimensión (T, n + 1) donde la primer columna son puros unos\n",
    "    @param y: un ndarray de dimensión (T, 1) donde cada entrada es 1.0 o 0.0\n",
    "    @param alpha: Un flotante (típicamente pequeño) con la tasa de aprendizaje\n",
    "    @param epsilon: Un flotante pequeño como criterio de paro. Por default 1e-4\n",
    "    @param max_iter: Máximo numero de iteraciones. Por default 1e4\n",
    "    @param costos: Un booleano para saber si calculamos el historial de costos o no\n",
    "    \n",
    "    @return: w, costo_hist donde costo es ndarray de dimensión (n + 1, 1) y costo_hist es un\n",
    "             ndarray de dimensión (max_iter,) con el costo en cada iteración si costos == True, si no\n",
    "             regresa None\n",
    "             \n",
    "    \"\"\"\n",
    "    T, n = x.shape[0], x.shape[1] - 1\n",
    "    \n",
    "    w = np.zeros((n + 1, 1))\n",
    "    costo_hist = np.zeros(max_iter) if costos else None\n",
    "    \n",
    "    for iter in range(max_iter):\n",
    "        #--------------------------------------------------------------\n",
    "        # Agregar aqui tu código\n",
    "        #\n",
    "        # Recuerda utilizar las funciones que ya has desarrollado\n",
    "\n",
    "        dw = gradiente(w, x, y)\n",
    "    \n",
    "        w -= alpha * dw\n",
    "        \n",
    "        if np.abs(dw).max() < epsilon:\n",
    "            return w, costo_hist\n",
    "\n",
    "        if costos:\n",
    "            costo_hist[iter] = costo(w, x, y)\n",
    "\n",
    "\n",
    "\n",
    "\n",
    "        #--------------------------------------------------------------\n",
    "\n",
    "    return w, costo_hist\n"
   ]
  },
  {
   "cell_type": "markdown",
   "metadata": {},
   "source": [
    "Para probar la función de aprendizaje, vamos a aplicarla a nuestro problema de admisión. Primero recuerda que tienes que hacer una exploración para encontrar el mejor valor de $\\alpha$. Así que utiliza el código de abajo para ajustar $\\alpha$."
   ]
  },
  {
   "cell_type": "code",
   "execution_count": 26,
   "metadata": {
    "collapsed": false
   },
   "outputs": [
    {
     "data": {
      "text/plain": [
       "Text(0, 0.5, 'costo')"
      ]
     },
     "execution_count": 26,
     "metadata": {},
     "output_type": "execute_result"
    },
    {
     "data": {
      "image/png": "[encoded data removed]",
      "text/plain": [
       "<Figure size 432x288 with 1 Axes>"
      ]
     },
     "metadata": {
      "needs_background": "light"
     },
     "output_type": "display_data"
    }
   ],
   "source": [
    "alpha = 1e-4\n",
    "mi = 50\n",
    "_, costo_hist = descenso_rl_lotes(x, y, alpha, epsilon=1e-4, max_iter=mi, costos=True)\n",
    "\n",
    "plt.plot(np.arange(mi), costo_hist)\n",
    "plt.title(r'Evolucion del costo en las primeras iteraciones con $\\alpha$ = ' + str(alpha))\n",
    "plt.xlabel('iteraciones')\n",
    "plt.ylabel('costo')\n"
   ]
  },
  {
   "cell_type": "markdown",
   "metadata": {},
   "source": [
    "Una vez encontrada la mejor $\\alpha$, entonces podemos calcular $\\omega$ (esto va a tardar bastante), recuerda que el costo final debe de ser lo más cercano a 0 posible, así que agrega cuantas iteraciones sean necesarias: "
   ]
  },
  {
   "cell_type": "code",
   "execution_count": 28,
   "metadata": {
    "collapsed": false
   },
   "outputs": [
    {
     "name": "stdout",
     "output_type": "stream",
     "text": [
      "[[-4.81178575]\n",
      " [ 0.04528053]\n",
      " [ 0.03819138]]\n",
      "0.3873900079685839\n"
     ]
    }
   ],
   "source": [
    "w_lotes, _ = descenso_rl_lotes(x, y, alpha, max_iter = int(1e6))\n",
    "print(w_lotes)\n",
    "print(costo(w_lotes, x, y))"
   ]
  },
  {
   "cell_type": "markdown",
   "metadata": {},
   "source": [
    "Es interesante ver como el descenso de gradiente no es eficiente en este tipo de problemas, a pesar de ser problemas de optimización convexos.\n",
    "\n",
    "Bueno, este método nos devuelve $\\omega$, pero esto no es suficiente para ecir que tenemos un clasificador, ya que un método de clasificación se compone de dos métodos, uno para **aprender** y otro para **predecir**. Recuerda que para realizar la predicción con el método de regrasión lineal y el criterio MAP, no es necesario calcular la regrasión logística completa (lo que hace un método de predicción más rápido)."
   ]
  },
  {
   "cell_type": "markdown",
   "metadata": {},
   "source": [
    "#### Ejercicio 5: Desarrolla una función de predicción (20 puntos)"
   ]
  },
  {
   "cell_type": "code",
   "execution_count": 31,
   "metadata": {
    "collapsed": false
   },
   "outputs": [],
   "source": [
    "def predictor(w, x):\n",
    "    \"\"\"\n",
    "    Predice los valores de y_hat (que solo pueden ser 0 o 1), utilizando el criterio MAP.\n",
    "    \n",
    "    @param w: un ndarray de dimensión (n + 1, 1)\n",
    "    @param x: un ndarray de dimensión (T, n + 1) donde la primer columna son puros unos\n",
    "\n",
    "    @return: y_hat un ndarray de dimensión (T, 1) donde cada entrada es 1.0 o 0.0\n",
    "    \"\"\"\n",
    "    #-------------------------------------------------------------------------------------\n",
    "    # Agrega aqui tu código sin utilizar la función logística\n",
    "    T = x.shape[0]\n",
    "    y_hat = np.zeros((T,))\n",
    "    y_hat[x @ w > 0] = 1.0\n",
    "    \n",
    "    return y_hat\n",
    "    \n",
    "    \n",
    "    #--------------------------------------------------------------------------------------\n",
    "\n",
    "    "
   ]
  },
  {
   "cell_type": "markdown",
   "metadata": {},
   "source": [
    "¿Que tan bueno es este clasificador? ¿Es que implementamos bien el método?\n",
    "\n",
    "Vamos a contestar esto por partes. Primero, vamos a graficar los mismos datos pero vamos a agregar la superficie de separación, la cual en este caso sabemos que es una linea recta. Como sabemos el criterio para decidir si un punto pertenece a la clase 1 o cero es si el valor de $\\omega^T x_e^{(i)} \\ge 0$, por lo que la frontera entre la región donde se escoge una clase de otra se encuentra en:\n",
    "\n",
    "$$\n",
    "0 = \\omega_0 + \\omega_1 x_1  + \\omega_2 x_2,\n",
    "$$\n",
    "\n",
    "y despejando:\n",
    "\n",
    "$$\n",
    "x_2 = -\\frac{\\omega_0}{\\omega_2} -\\frac{\\omega_1}{\\omega_2}x_1\n",
    "$$\n",
    "\n",
    "son los pares $(x_1, x_2)$ de valores en la forntera. Al ser estos (en este caso) una linea recta solo necesitamos dos para graficar la superficie de separación. \n"
   ]
  },
  {
   "cell_type": "code",
   "execution_count": 32,
   "metadata": {
    "collapsed": false
   },
   "outputs": [
    {
     "data": {
      "text/plain": [
       "<matplotlib.legend.Legend at 0x7f1334795390>"
      ]
     },
     "execution_count": 32,
     "metadata": {},
     "output_type": "execute_result"
    },
    {
     "data": {
      "image/png": "[encoded data removed]",
      "text/plain": [
       "<Figure size 432x288 with 1 Axes>"
      ]
     },
     "metadata": {
      "needs_background": "light"
     },
     "output_type": "display_data"
    }
   ],
   "source": [
    "x1_frontera = np.array([20, 100]) #Los valores mínimo y máximo que tenemos en la gráfica de puntos\n",
    "x2_frontera = -(w_lotes[0] / w_lotes[2]) - (w_lotes[1] / w_lotes[2]) * x1_frontera\n",
    "\n",
    "plt.plot(x[y.ravel() == 1, 1], x[y.ravel() == 1, 2], 'sr', label='aceptados') \n",
    "plt.plot(x[y.ravel() == 0, 1], x[y.ravel() == 0, 2], 'ob', label='rechazados')\n",
    "plt.plot(x1_frontera, x2_frontera, 'm')\n",
    "plt.title(u'Ejemplo sintético para regresión logística')\n",
    "plt.xlabel(u'Calificación del primer examen')\n",
    "plt.ylabel(u'Calificación del segundo examen')\n",
    "plt.axis([20, 100, 20, 100])\n",
    "plt.legend(loc=0)\n",
    "\n"
   ]
  },
  {
   "cell_type": "markdown",
   "metadata": {},
   "source": [
    "Y para que tengas una idea de lo que debería de salir, anexo una figura obtenida con el código que yo hice:"
   ]
  },
  {
   "cell_type": "code",
   "execution_count": 33,
   "metadata": {
    "collapsed": false
   },
   "outputs": [
    {
     "data": {
      "image/png": "[encoded data removed]",
      "text/plain": [
       "<IPython.core.display.Image object>"
      ]
     },
     "execution_count": 33,
     "metadata": {},
     "output_type": "execute_result"
    }
   ],
   "source": [
    "Image(filename='ejemplo_logistica_1.png')"
   ]
  },
  {
   "cell_type": "markdown",
   "metadata": {},
   "source": [
    "Bueno, ya vimos que el método del descenso de gradiente, si bien es correcto y fácil de implementar, es bastante ineficiente en cuanto a tiempo (inclusive para un problema bastante simple, por lo que vamos a utilizar la función `minimize`que provee `scipy` la que vamos a utilizar con el algoritmo BFGS (explicado en clase en forma somera). Ejecuta la celda de abajo para revisar la documentación de `minimize` "
   ]
  },
  {
   "cell_type": "code",
   "execution_count": 34,
   "metadata": {
    "collapsed": false
   },
   "outputs": [
    {
     "data": {
      "text/plain": [
       "\u001b[0;31mSignature:\u001b[0m\n",
       "\u001b[0mminimize\u001b[0m\u001b[0;34m(\u001b[0m\u001b[0;34m\u001b[0m\n",
       "\u001b[0;34m\u001b[0m    \u001b[0mfun\u001b[0m\u001b[0;34m,\u001b[0m\u001b[0;34m\u001b[0m\n",
       "\u001b[0;34m\u001b[0m    \u001b[0mx0\u001b[0m\u001b[0;34m,\u001b[0m\u001b[0;34m\u001b[0m\n",
       "\u001b[0;34m\u001b[0m    \u001b[0margs\u001b[0m\u001b[0;34m=\u001b[0m\u001b[0;34m(\u001b[0m\u001b[0;34m)\u001b[0m\u001b[0;34m,\u001b[0m\u001b[0;34m\u001b[0m\n",
       "\u001b[0;34m\u001b[0m    \u001b[0mmethod\u001b[0m\u001b[0;34m=\u001b[0m\u001b[0;32mNone\u001b[0m\u001b[0;34m,\u001b[0m\u001b[0;34m\u001b[0m\n",
       "\u001b[0;34m\u001b[0m    \u001b[0mjac\u001b[0m\u001b[0;34m=\u001b[0m\u001b[0;32mNone\u001b[0m\u001b[0;34m,\u001b[0m\u001b[0;34m\u001b[0m\n",
       "\u001b[0;34m\u001b[0m    \u001b[0mhess\u001b[0m\u001b[0;34m=\u001b[0m\u001b[0;32mNone\u001b[0m\u001b[0;34m,\u001b[0m\u001b[0;34m\u001b[0m\n",
       "\u001b[0;34m\u001b[0m    \u001b[0mhessp\u001b[0m\u001b[0;34m=\u001b[0m\u001b[0;32mNone\u001b[0m\u001b[0;34m,\u001b[0m\u001b[0;34m\u001b[0m\n",
       "\u001b[0;34m\u001b[0m    \u001b[0mbounds\u001b[0m\u001b[0;34m=\u001b[0m\u001b[0;32mNone\u001b[0m\u001b[0;34m,\u001b[0m\u001b[0;34m\u001b[0m\n",
       "\u001b[0;34m\u001b[0m    \u001b[0mconstraints\u001b[0m\u001b[0;34m=\u001b[0m\u001b[0;34m(\u001b[0m\u001b[0;34m)\u001b[0m\u001b[0;34m,\u001b[0m\u001b[0;34m\u001b[0m\n",
       "\u001b[0;34m\u001b[0m    \u001b[0mtol\u001b[0m\u001b[0;34m=\u001b[0m\u001b[0;32mNone\u001b[0m\u001b[0;34m,\u001b[0m\u001b[0;34m\u001b[0m\n",
       "\u001b[0;34m\u001b[0m    \u001b[0mcallback\u001b[0m\u001b[0;34m=\u001b[0m\u001b[0;32mNone\u001b[0m\u001b[0;34m,\u001b[0m\u001b[0;34m\u001b[0m\n",
       "\u001b[0;34m\u001b[0m    \u001b[0moptions\u001b[0m\u001b[0;34m=\u001b[0m\u001b[0;32mNone\u001b[0m\u001b[0;34m,\u001b[0m\u001b[0;34m\u001b[0m\n",
       "\u001b[0;34m\u001b[0m\u001b[0;34m)\u001b[0m\u001b[0;34m\u001b[0m\u001b[0;34m\u001b[0m\u001b[0m\n",
       "\u001b[0;31mDocstring:\u001b[0m\n",
       "Minimization of scalar function of one or more variables.\n",
       "\n",
       "Parameters\n",
       "----------\n",
       "fun : callable\n",
       "    The objective function to be minimized.\n",
       "\n",
       "        ``fun(x, *args) -> float``\n",
       "\n",
       "    where x is an 1-D array with shape (n,) and `args`\n",
       "    is a tuple of the fixed parameters needed to completely\n",
       "    specify the function.\n",
       "x0 : ndarray, shape (n,)\n",
       "    Initial guess. Array of real elements of size (n,),\n",
       "    where 'n' is the number of independent variables.\n",
       "args : tuple, optional\n",
       "    Extra arguments passed to the objective function and its\n",
       "    derivatives (`fun`, `jac` and `hess` functions).\n",
       "method : str or callable, optional\n",
       "    Type of solver.  Should be one of\n",
       "\n",
       "        - 'Nelder-Mead' :ref:`(see here) <optimize.minimize-neldermead>`\n",
       "        - 'Powell'      :ref:`(see here) <optimize.minimize-powell>`\n",
       "        - 'CG'          :ref:`(see here) <optimize.minimize-cg>`\n",
       "        - 'BFGS'        :ref:`(see here) <optimize.minimize-bfgs>`\n",
       "        - 'Newton-CG'   :ref:`(see here) <optimize.minimize-newtoncg>`\n",
       "        - 'L-BFGS-B'    :ref:`(see here) <optimize.minimize-lbfgsb>`\n",
       "        - 'TNC'         :ref:`(see here) <optimize.minimize-tnc>`\n",
       "        - 'COBYLA'      :ref:`(see here) <optimize.minimize-cobyla>`\n",
       "        - 'SLSQP'       :ref:`(see here) <optimize.minimize-slsqp>`\n",
       "        - 'trust-constr':ref:`(see here) <optimize.minimize-trustconstr>`\n",
       "        - 'dogleg'      :ref:`(see here) <optimize.minimize-dogleg>`\n",
       "        - 'trust-ncg'   :ref:`(see here) <optimize.minimize-trustncg>`\n",
       "        - 'trust-exact' :ref:`(see here) <optimize.minimize-trustexact>`\n",
       "        - 'trust-krylov' :ref:`(see here) <optimize.minimize-trustkrylov>`\n",
       "        - custom - a callable object (added in version 0.14.0),\n",
       "          see below for description.\n",
       "\n",
       "    If not given, chosen to be one of ``BFGS``, ``L-BFGS-B``, ``SLSQP``,\n",
       "    depending if the problem has constraints or bounds.\n",
       "jac : {callable,  '2-point', '3-point', 'cs', bool}, optional\n",
       "    Method for computing the gradient vector. Only for CG, BFGS,\n",
       "    Newton-CG, L-BFGS-B, TNC, SLSQP, dogleg, trust-ncg, trust-krylov,\n",
       "    trust-exact and trust-constr. If it is a callable, it should be a\n",
       "    function that returns the gradient vector:\n",
       "\n",
       "        ``jac(x, *args) -> array_like, shape (n,)``\n",
       "\n",
       "    where x is an array with shape (n,) and `args` is a tuple with\n",
       "    the fixed parameters. Alternatively, the keywords\n",
       "    {'2-point', '3-point', 'cs'} select a finite\n",
       "    difference scheme for numerical estimation of the gradient. Options\n",
       "    '3-point' and 'cs' are available only to 'trust-constr'.\n",
       "    If `jac` is a Boolean and is True, `fun` is assumed to return the\n",
       "    gradient along with the objective function. If False, the gradient\n",
       "    will be estimated using '2-point' finite difference estimation.\n",
       "hess : {callable, '2-point', '3-point', 'cs', HessianUpdateStrategy},  optional\n",
       "    Method for computing the Hessian matrix. Only for Newton-CG, dogleg,\n",
       "    trust-ncg,  trust-krylov, trust-exact and trust-constr. If it is\n",
       "    callable, it should return the  Hessian matrix:\n",
       "\n",
       "        ``hess(x, *args) -> {LinearOperator, spmatrix, array}, (n, n)``\n",
       "\n",
       "    where x is a (n,) ndarray and `args` is a tuple with the fixed\n",
       "    parameters. LinearOperator and sparse matrix returns are\n",
       "    allowed only for 'trust-constr' method. Alternatively, the keywords\n",
       "    {'2-point', '3-point', 'cs'} select a finite difference scheme\n",
       "    for numerical estimation. Or, objects implementing\n",
       "    `HessianUpdateStrategy` interface can be used to approximate\n",
       "    the Hessian. Available quasi-Newton methods implementing\n",
       "    this interface are:\n",
       "\n",
       "        - `BFGS`;\n",
       "        - `SR1`.\n",
       "\n",
       "    Whenever the gradient is estimated via finite-differences,\n",
       "    the Hessian cannot be estimated with options\n",
       "    {'2-point', '3-point', 'cs'} and needs to be\n",
       "    estimated using one of the quasi-Newton strategies.\n",
       "    Finite-difference options {'2-point', '3-point', 'cs'} and\n",
       "    `HessianUpdateStrategy` are available only for 'trust-constr' method.\n",
       "hessp : callable, optional\n",
       "    Hessian of objective function times an arbitrary vector p. Only for\n",
       "    Newton-CG, trust-ncg, trust-krylov, trust-constr.\n",
       "    Only one of `hessp` or `hess` needs to be given.  If `hess` is\n",
       "    provided, then `hessp` will be ignored.  `hessp` must compute the\n",
       "    Hessian times an arbitrary vector:\n",
       "\n",
       "        ``hessp(x, p, *args) ->  ndarray shape (n,)``\n",
       "\n",
       "    where x is a (n,) ndarray, p is an arbitrary vector with\n",
       "    dimension (n,) and `args` is a tuple with the fixed\n",
       "    parameters.\n",
       "bounds : sequence or `Bounds`, optional\n",
       "    Bounds on variables for L-BFGS-B, TNC, SLSQP and\n",
       "    trust-constr methods. There are two ways to specify the bounds:\n",
       "\n",
       "        1. Instance of `Bounds` class.\n",
       "        2. Sequence of ``(min, max)`` pairs for each element in `x`. None\n",
       "           is used to specify no bound.\n",
       "\n",
       "constraints : {Constraint, dict} or List of {Constraint, dict}, optional\n",
       "    Constraints definition (only for COBYLA, SLSQP and trust-constr).\n",
       "    Constraints for 'trust-constr' are defined as a single object or a\n",
       "    list of objects specifying constraints to the optimization problem.\n",
       "    Available constraints are:\n",
       "\n",
       "        - `LinearConstraint`\n",
       "        - `NonlinearConstraint`\n",
       "\n",
       "    Constraints for COBYLA, SLSQP are defined as a list of dictionaries.\n",
       "    Each dictionary with fields:\n",
       "\n",
       "        type : str\n",
       "            Constraint type: 'eq' for equality, 'ineq' for inequality.\n",
       "        fun : callable\n",
       "            The function defining the constraint.\n",
       "        jac : callable, optional\n",
       "            The Jacobian of `fun` (only for SLSQP).\n",
       "        args : sequence, optional\n",
       "            Extra arguments to be passed to the function and Jacobian.\n",
       "\n",
       "    Equality constraint means that the constraint function result is to\n",
       "    be zero whereas inequality means that it is to be non-negative.\n",
       "    Note that COBYLA only supports inequality constraints.\n",
       "tol : float, optional\n",
       "    Tolerance for termination. For detailed control, use solver-specific\n",
       "    options.\n",
       "options : dict, optional\n",
       "    A dictionary of solver options. All methods accept the following\n",
       "    generic options:\n",
       "\n",
       "        maxiter : int\n",
       "            Maximum number of iterations to perform.\n",
       "        disp : bool\n",
       "            Set to True to print convergence messages.\n",
       "\n",
       "    For method-specific options, see :func:`show_options()`.\n",
       "callback : callable, optional\n",
       "    Called after each iteration. For 'trust-constr' it is a callable with\n",
       "    the signature:\n",
       "\n",
       "        ``callback(xk, OptimizeResult state) -> bool``\n",
       "\n",
       "    where ``xk`` is the current parameter vector. and ``state``\n",
       "    is an `OptimizeResult` object, with the same fields\n",
       "    as the ones from the return.  If callback returns True\n",
       "    the algorithm execution is terminated.\n",
       "    For all the other methods, the signature is:\n",
       "\n",
       "        ``callback(xk)``\n",
       "\n",
       "    where ``xk`` is the current parameter vector.\n",
       "\n",
       "Returns\n",
       "-------\n",
       "res : OptimizeResult\n",
       "    The optimization result represented as a ``OptimizeResult`` object.\n",
       "    Important attributes are: ``x`` the solution array, ``success`` a\n",
       "    Boolean flag indicating if the optimizer exited successfully and\n",
       "    ``message`` which describes the cause of the termination. See\n",
       "    `OptimizeResult` for a description of other attributes.\n",
       "\n",
       "\n",
       "See also\n",
       "--------\n",
       "minimize_scalar : Interface to minimization algorithms for scalar\n",
       "    univariate functions\n",
       "show_options : Additional options accepted by the solvers\n",
       "\n",
       "Notes\n",
       "-----\n",
       "This section describes the available solvers that can be selected by the\n",
       "'method' parameter. The default method is *BFGS*.\n",
       "\n",
       "**Unconstrained minimization**\n",
       "\n",
       "Method :ref:`Nelder-Mead <optimize.minimize-neldermead>` uses the\n",
       "Simplex algorithm [1]_, [2]_. This algorithm is robust in many\n",
       "applications. However, if numerical computation of derivative can be\n",
       "trusted, other algorithms using the first and/or second derivatives\n",
       "information might be preferred for their better performance in\n",
       "general.\n",
       "\n",
       "Method :ref:`Powell <optimize.minimize-powell>` is a modification\n",
       "of Powell's method [3]_, [4]_ which is a conjugate direction\n",
       "method. It performs sequential one-dimensional minimizations along\n",
       "each vector of the directions set (`direc` field in `options` and\n",
       "`info`), which is updated at each iteration of the main\n",
       "minimization loop. The function need not be differentiable, and no\n",
       "derivatives are taken.\n",
       "\n",
       "Method :ref:`CG <optimize.minimize-cg>` uses a nonlinear conjugate\n",
       "gradient algorithm by Polak and Ribiere, a variant of the\n",
       "Fletcher-Reeves method described in [5]_ pp.  120-122. Only the\n",
       "first derivatives are used.\n",
       "\n",
       "Method :ref:`BFGS <optimize.minimize-bfgs>` uses the quasi-Newton\n",
       "method of Broyden, Fletcher, Goldfarb, and Shanno (BFGS) [5]_\n",
       "pp. 136. It uses the first derivatives only. BFGS has proven good\n",
       "performance even for non-smooth optimizations. This method also\n",
       "returns an approximation of the Hessian inverse, stored as\n",
       "`hess_inv` in the OptimizeResult object.\n",
       "\n",
       "Method :ref:`Newton-CG <optimize.minimize-newtoncg>` uses a\n",
       "Newton-CG algorithm [5]_ pp. 168 (also known as the truncated\n",
       "Newton method). It uses a CG method to the compute the search\n",
       "direction. See also *TNC* method for a box-constrained\n",
       "minimization with a similar algorithm. Suitable for large-scale\n",
       "problems.\n",
       "\n",
       "Method :ref:`dogleg <optimize.minimize-dogleg>` uses the dog-leg\n",
       "trust-region algorithm [5]_ for unconstrained minimization. This\n",
       "algorithm requires the gradient and Hessian; furthermore the\n",
       "Hessian is required to be positive definite.\n",
       "\n",
       "Method :ref:`trust-ncg <optimize.minimize-trustncg>` uses the\n",
       "Newton conjugate gradient trust-region algorithm [5]_ for\n",
       "unconstrained minimization. This algorithm requires the gradient\n",
       "and either the Hessian or a function that computes the product of\n",
       "the Hessian with a given vector. Suitable for large-scale problems.\n",
       "\n",
       "Method :ref:`trust-krylov <optimize.minimize-trustkrylov>` uses\n",
       "the Newton GLTR trust-region algorithm [14]_, [15]_ for unconstrained\n",
       "minimization. This algorithm requires the gradient\n",
       "and either the Hessian or a function that computes the product of\n",
       "the Hessian with a given vector. Suitable for large-scale problems.\n",
       "On indefinite problems it requires usually less iterations than the\n",
       "`trust-ncg` method and is recommended for medium and large-scale problems.\n",
       "\n",
       "Method :ref:`trust-exact <optimize.minimize-trustexact>`\n",
       "is a trust-region method for unconstrained minimization in which\n",
       "quadratic subproblems are solved almost exactly [13]_. This\n",
       "algorithm requires the gradient and the Hessian (which is\n",
       "*not* required to be positive definite). It is, in many\n",
       "situations, the Newton method to converge in fewer iteraction\n",
       "and the most recommended for small and medium-size problems.\n",
       "\n",
       "**Bound-Constrained minimization**\n",
       "\n",
       "Method :ref:`L-BFGS-B <optimize.minimize-lbfgsb>` uses the L-BFGS-B\n",
       "algorithm [6]_, [7]_ for bound constrained minimization.\n",
       "\n",
       "Method :ref:`TNC <optimize.minimize-tnc>` uses a truncated Newton\n",
       "algorithm [5]_, [8]_ to minimize a function with variables subject\n",
       "to bounds. This algorithm uses gradient information; it is also\n",
       "called Newton Conjugate-Gradient. It differs from the *Newton-CG*\n",
       "method described above as it wraps a C implementation and allows\n",
       "each variable to be given upper and lower bounds.\n",
       "\n",
       "**Constrained Minimization**\n",
       "\n",
       "Method :ref:`COBYLA <optimize.minimize-cobyla>` uses the\n",
       "Constrained Optimization BY Linear Approximation (COBYLA) method\n",
       "[9]_, [10]_, [11]_. The algorithm is based on linear\n",
       "approximations to the objective function and each constraint. The\n",
       "method wraps a FORTRAN implementation of the algorithm. The\n",
       "constraints functions 'fun' may return either a single number\n",
       "or an array or list of numbers.\n",
       "\n",
       "Method :ref:`SLSQP <optimize.minimize-slsqp>` uses Sequential\n",
       "Least SQuares Programming to minimize a function of several\n",
       "variables with any combination of bounds, equality and inequality\n",
       "constraints. The method wraps the SLSQP Optimization subroutine\n",
       "originally implemented by Dieter Kraft [12]_. Note that the\n",
       "wrapper handles infinite values in bounds by converting them into\n",
       "large floating values.\n",
       "\n",
       "Method :ref:`trust-constr <optimize.minimize-trustconstr>` is a\n",
       "trust-region algorithm for constrained optimization. It swiches\n",
       "between two implementations depending on the problem definition.\n",
       "It is the most versatile constrained minimization algorithm\n",
       "implemented in SciPy and the most appropriate for large-scale problems.\n",
       "For equality constrained problems it is an implementation of Byrd-Omojokun\n",
       "Trust-Region SQP method described in [17]_ and in [5]_, p. 549. When\n",
       "inequality constraints  are imposed as well, it swiches to the trust-region\n",
       "interior point  method described in [16]_. This interior point algorithm,\n",
       "in turn, solves inequality constraints by introducing slack variables\n",
       "and solving a sequence of equality-constrained barrier problems\n",
       "for progressively smaller values of the barrier parameter.\n",
       "The previously described equality constrained SQP method is\n",
       "used to solve the subproblems with increasing levels of accuracy\n",
       "as the iterate gets closer to a solution.\n",
       "\n",
       "**Finite-Difference Options**\n",
       "\n",
       "For Method :ref:`trust-constr <optimize.minimize-trustconstr>`\n",
       "the gradient and the Hessian may be approximated using\n",
       "three finite-difference schemes: {'2-point', '3-point', 'cs'}.\n",
       "The scheme 'cs' is, potentially, the most accurate but it\n",
       "requires the function to correctly handles complex inputs and to\n",
       "be differentiable in the complex plane. The scheme '3-point' is more\n",
       "accurate than '2-point' but requires twice as much operations.\n",
       "\n",
       "**Custom minimizers**\n",
       "\n",
       "It may be useful to pass a custom minimization method, for example\n",
       "when using a frontend to this method such as `scipy.optimize.basinhopping`\n",
       "or a different library.  You can simply pass a callable as the ``method``\n",
       "parameter.\n",
       "\n",
       "The callable is called as ``method(fun, x0, args, **kwargs, **options)``\n",
       "where ``kwargs`` corresponds to any other parameters passed to `minimize`\n",
       "(such as `callback`, `hess`, etc.), except the `options` dict, which has\n",
       "its contents also passed as `method` parameters pair by pair.  Also, if\n",
       "`jac` has been passed as a bool type, `jac` and `fun` are mangled so that\n",
       "`fun` returns just the function values and `jac` is converted to a function\n",
       "returning the Jacobian.  The method shall return an ``OptimizeResult``\n",
       "object.\n",
       "\n",
       "The provided `method` callable must be able to accept (and possibly ignore)\n",
       "arbitrary parameters; the set of parameters accepted by `minimize` may\n",
       "expand in future versions and then these parameters will be passed to\n",
       "the method.  You can find an example in the scipy.optimize tutorial.\n",
       "\n",
       ".. versionadded:: 0.11.0\n",
       "\n",
       "References\n",
       "----------\n",
       ".. [1] Nelder, J A, and R Mead. 1965. A Simplex Method for Function\n",
       "    Minimization. The Computer Journal 7: 308-13.\n",
       ".. [2] Wright M H. 1996. Direct search methods: Once scorned, now\n",
       "    respectable, in Numerical Analysis 1995: Proceedings of the 1995\n",
       "    Dundee Biennial Conference in Numerical Analysis (Eds. D F\n",
       "    Griffiths and G A Watson). Addison Wesley Longman, Harlow, UK.\n",
       "    191-208.\n",
       ".. [3] Powell, M J D. 1964. An efficient method for finding the minimum of\n",
       "   a function of several variables without calculating derivatives. The\n",
       "   Computer Journal 7: 155-162.\n",
       ".. [4] Press W, S A Teukolsky, W T Vetterling and B P Flannery.\n",
       "   Numerical Recipes (any edition), Cambridge University Press.\n",
       ".. [5] Nocedal, J, and S J Wright. 2006. Numerical Optimization.\n",
       "   Springer New York.\n",
       ".. [6] Byrd, R H and P Lu and J. Nocedal. 1995. A Limited Memory\n",
       "   Algorithm for Bound Constrained Optimization. SIAM Journal on\n",
       "   Scientific and Statistical Computing 16 (5): 1190-1208.\n",
       ".. [7] Zhu, C and R H Byrd and J Nocedal. 1997. L-BFGS-B: Algorithm\n",
       "   778: L-BFGS-B, FORTRAN routines for large scale bound constrained\n",
       "   optimization. ACM Transactions on Mathematical Software 23 (4):\n",
       "   550-560.\n",
       ".. [8] Nash, S G. Newton-Type Minimization Via the Lanczos Method.\n",
       "   1984. SIAM Journal of Numerical Analysis 21: 770-778.\n",
       ".. [9] Powell, M J D. A direct search optimization method that models\n",
       "   the objective and constraint functions by linear interpolation.\n",
       "   1994. Advances in Optimization and Numerical Analysis, eds. S. Gomez\n",
       "   and J-P Hennart, Kluwer Academic (Dordrecht), 51-67.\n",
       ".. [10] Powell M J D. Direct search algorithms for optimization\n",
       "   calculations. 1998. Acta Numerica 7: 287-336.\n",
       ".. [11] Powell M J D. A view of algorithms for optimization without\n",
       "   derivatives. 2007.Cambridge University Technical Report DAMTP\n",
       "   2007/NA03\n",
       ".. [12] Kraft, D. A software package for sequential quadratic\n",
       "   programming. 1988. Tech. Rep. DFVLR-FB 88-28, DLR German Aerospace\n",
       "   Center -- Institute for Flight Mechanics, Koln, Germany.\n",
       ".. [13] Conn, A. R., Gould, N. I., and Toint, P. L.\n",
       "   Trust region methods. 2000. Siam. pp. 169-200.\n",
       ".. [14] F. Lenders, C. Kirches, A. Potschka: \"trlib: A vector-free\n",
       "   implementation of the GLTR method for iterative solution of\n",
       "   the trust region problem\", https://arxiv.org/abs/1611.04718\n",
       ".. [15] N. Gould, S. Lucidi, M. Roma, P. Toint: \"Solving the\n",
       "   Trust-Region Subproblem using the Lanczos Method\",\n",
       "   SIAM J. Optim., 9(2), 504--525, (1999).\n",
       ".. [16] Byrd, Richard H., Mary E. Hribar, and Jorge Nocedal. 1999.\n",
       "    An interior point algorithm for large-scale nonlinear  programming.\n",
       "    SIAM Journal on Optimization 9.4: 877-900.\n",
       ".. [17] Lalee, Marucha, Jorge Nocedal, and Todd Plantega. 1998. On the\n",
       "    implementation of an algorithm for large-scale equality constrained\n",
       "    optimization. SIAM Journal on Optimization 8.3: 682-706.\n",
       "\n",
       "Examples\n",
       "--------\n",
       "Let us consider the problem of minimizing the Rosenbrock function. This\n",
       "function (and its respective derivatives) is implemented in `rosen`\n",
       "(resp. `rosen_der`, `rosen_hess`) in the `scipy.optimize`.\n",
       "\n",
       ">>> from scipy.optimize import minimize, rosen, rosen_der\n",
       "\n",
       "A simple application of the *Nelder-Mead* method is:\n",
       "\n",
       ">>> x0 = [1.3, 0.7, 0.8, 1.9, 1.2]\n",
       ">>> res = minimize(rosen, x0, method='Nelder-Mead', tol=1e-6)\n",
       ">>> res.x\n",
       "array([ 1.,  1.,  1.,  1.,  1.])\n",
       "\n",
       "Now using the *BFGS* algorithm, using the first derivative and a few\n",
       "options:\n",
       "\n",
       ">>> res = minimize(rosen, x0, method='BFGS', jac=rosen_der,\n",
       "...                options={'gtol': 1e-6, 'disp': True})\n",
       "Optimization terminated successfully.\n",
       "         Current function value: 0.000000\n",
       "         Iterations: 26\n",
       "         Function evaluations: 31\n",
       "         Gradient evaluations: 31\n",
       ">>> res.x\n",
       "array([ 1.,  1.,  1.,  1.,  1.])\n",
       ">>> print(res.message)\n",
       "Optimization terminated successfully.\n",
       ">>> res.hess_inv\n",
       "array([[ 0.00749589,  0.01255155,  0.02396251,  0.04750988,  0.09495377],  # may vary\n",
       "       [ 0.01255155,  0.02510441,  0.04794055,  0.09502834,  0.18996269],\n",
       "       [ 0.02396251,  0.04794055,  0.09631614,  0.19092151,  0.38165151],\n",
       "       [ 0.04750988,  0.09502834,  0.19092151,  0.38341252,  0.7664427 ],\n",
       "       [ 0.09495377,  0.18996269,  0.38165151,  0.7664427,   1.53713523]])\n",
       "\n",
       "\n",
       "Next, consider a minimization problem with several constraints (namely\n",
       "Example 16.4 from [5]_). The objective function is:\n",
       "\n",
       ">>> fun = lambda x: (x[0] - 1)**2 + (x[1] - 2.5)**2\n",
       "\n",
       "There are three constraints defined as:\n",
       "\n",
       ">>> cons = ({'type': 'ineq', 'fun': lambda x:  x[0] - 2 * x[1] + 2},\n",
       "...         {'type': 'ineq', 'fun': lambda x: -x[0] - 2 * x[1] + 6},\n",
       "...         {'type': 'ineq', 'fun': lambda x: -x[0] + 2 * x[1] + 2})\n",
       "\n",
       "And variables must be positive, hence the following bounds:\n",
       "\n",
       ">>> bnds = ((0, None), (0, None))\n",
       "\n",
       "The optimization problem is solved using the SLSQP method as:\n",
       "\n",
       ">>> res = minimize(fun, (2, 0), method='SLSQP', bounds=bnds,\n",
       "...                constraints=cons)\n",
       "\n",
       "It should converge to the theoretical solution (1.4 ,1.7).\n",
       "\u001b[0;31mFile:\u001b[0m      ~/anaconda3/lib/python3.7/site-packages/scipy/optimize/_minimize.py\n",
       "\u001b[0;31mType:\u001b[0m      function\n"
      ]
     },
     "metadata": {},
     "output_type": "display_data"
    }
   ],
   "source": [
    "from scipy.optimize import minimize\n",
    "\n",
    "minimize?"
   ]
  },
  {
   "cell_type": "markdown",
   "metadata": {},
   "source": [
    "Como puedes ver, el método BFGS es el método por default. Los parámetros que hay que agregar son:\n",
    "\n",
    "* Una $\\omega$ inicial en `x0`\n",
    "* Una funcion de costo $J(\\omega)$ en `fun`\n",
    "* Una función de gradiente $\\nabla J(\\omega)$ en `jac`\n",
    "* Argumentos extras para `fun` y `jac` en forma de tupla\n",
    "* Opciones del método de optimización en `options` como un diccionario. Las opciones pueden ser:\n",
    "  * gtol: Valor de tolerancia en la variación de la norma del gradiente\n",
    "  * maxiter: Máximo numero de iteraciones\n",
    "  * disp: Si True, despliega la información sobre la convergencia del algoritmo\n",
    "\n",
    "La función regresa un objeto resultado `res`, del cual solo nos interesa `res.x`, el resultado de theta.\n",
    "\n",
    "Como $\\omega$ en este método debe de ser un ndim de una sola dimensión, y nosotros hemos estado usando $\\theta$ como un vector columna pues podemos modificar un poco estas funciones con unas nuevas (esto de hecho es posible hacerlo modificando las funciones originales, pero podría causar mas problemas de conceptos hacerlo). De hecho una vez funcionando, un buen científica de la computación (o un buen desarrollador) aplicaría una etapa de *refactoring*, esto es, modificar todo lo que obscurece y hace menos ineficiente, o menos estético el código.\n",
    "\n",
    "Veras que si lo corres varias veces, en muchas ocasiones vamos a tener que el resultado no se pudo lograr por falta de precisión en la función del gradiente. Esto es debido a la forma en que estamos calculando el gradiente, y a que si la solución inicial realiza una partición pésima del estado, entonces hay problemas para estimar el inverso del hessiano, por problemas de estabilidad numérica del método. Por esta razón se inicializa el algoritmo con un valor de $\\omega$ obtenido en forma aleatoria (valores pequeños).\n",
    "\n",
    "Lo interesante es que el algoritmo avisa cuando no hay convergencia, y vuando hay se obtiene en muy pocas iteraciones (19 en promedio)  "
   ]
  },
  {
   "cell_type": "code",
   "execution_count": 35,
   "metadata": {
    "collapsed": false
   },
   "outputs": [
    {
     "ename": "SyntaxError",
     "evalue": "Missing parentheses in call to 'print'. Did you mean print(theta0)? (<ipython-input-35-05b78c44fc89>, line 2)",
     "output_type": "error",
     "traceback": [
      "\u001b[0;36m  File \u001b[0;32m\"<ipython-input-35-05b78c44fc89>\"\u001b[0;36m, line \u001b[0;32m2\u001b[0m\n\u001b[0;31m    print theta0\u001b[0m\n\u001b[0m               ^\u001b[0m\n\u001b[0;31mSyntaxError\u001b[0m\u001b[0;31m:\u001b[0m Missing parentheses in call to 'print'. Did you mean print(theta0)?\n"
     ]
    }
   ],
   "source": [
    "w0 = 1e-2 * np.random.rand(x.shape[1])\n",
    "print theta0\n",
    "funcion = lambda w, x, y: costo(w.reshape(-1,1), x, y)\n",
    "jacobiano = lambda w, x, y: gradiente(w.reshape(-1,1), x, y).ravel()\n",
    "res = minimize(x0=w0,\n",
    "               fun=funcion,\n",
    "               jac=jacobiano,\n",
    "               args = (x, y),\n",
    "               method='BFGS',\n",
    "               options= {'maxiter': 400, 'disp': True})\n",
    "print res"
   ]
  },
  {
   "cell_type": "markdown",
   "metadata": {},
   "source": [
    "Otra forma de obtener el resltado es utilizando un método tipo *simplex* que no necesita calcular ni el jacobiano, ni la inversión del hessiano. Que si bien requiere sensiblemente de más iteraciones, para un problema relativamente simple como este es suficiente (sin embargo para problemas de regresión lineal con muchos atributos, o redes neuronales, ya no será suficiente)."
   ]
  },
  {
   "cell_type": "code",
   "execution_count": null,
   "metadata": {
    "collapsed": false
   },
   "outputs": [],
   "source": [
    "w0 = np.zeros(x.shape[1])\n",
    "print theta0\n",
    "funcion = lambda w, x, y: costo(w.reshape(-1,1), x, y)\n",
    "jacobiano = lambda w, x, y: gradiente(w.reshape(-1,1), x, y).ravel()\n",
    "res = minimize(x0=theta0,\n",
    "               fun=funcion,\n",
    "               args = (x, y),\n",
    "               method='Nelder-Mead',\n",
    "               options= {'maxiter': 400, 'disp': True})\n",
    "print res"
   ]
  },
  {
   "cell_type": "markdown",
   "metadata": {},
   "source": [
    "Y ahora veamos la partición del espacio con este método, la cual es ligeramente diferente a la obtenida con el descenso de gradiente:"
   ]
  },
  {
   "cell_type": "code",
   "execution_count": null,
   "metadata": {
    "collapsed": false
   },
   "outputs": [],
   "source": [
    "w_NM = res.x.reshape(-1,1)\n",
    "\n",
    "x1_frontera = np.array([20, 100]) #Los valores mínimo y máximo que tenemos en la gráfica de puntos\n",
    "x2_frontera = -(w_NM[0] / w_NM[2]) - (w_NM[1] / w_NM[2]) * x1_frontera\n",
    "\n",
    "plt.plot(x[y.ravel() == 1, 1], x[y.ravel() == 1, 2], 'sr', label='aceptados') \n",
    "plt.plot(x[y.ravel() == 0, 1], x[y.ravel() == 0, 2], 'ob', label='rechazados')\n",
    "plt.plot(x1_frontera, x2_frontera, 'm')\n",
    "plt.title(u'Ejemplo sintético para regresión logística')\n",
    "plt.xlabel(u'Calificación del primer examen')\n",
    "plt.ylabel(u'Calificación del segundo examen')\n",
    "plt.axis([20, 100, 20, 100])\n",
    "plt.legend(loc=0)\n"
   ]
  }
 ],
 "metadata": {
  "kernelspec": {
   "display_name": "Python 3",
   "language": "python",
   "name": "python3"
  },
  "language_info": {
   "codemirror_mode": {
    "name": "ipython",
    "version": 3
   },
   "file_extension": ".py",
   "mimetype": "text/x-python",
   "name": "python",
   "nbconvert_exporter": "python",
   "pygments_lexer": "ipython3",
   "version": "3.7.3"
  }
 },
 "nbformat": 4,
 "nbformat_minor": 2
}
